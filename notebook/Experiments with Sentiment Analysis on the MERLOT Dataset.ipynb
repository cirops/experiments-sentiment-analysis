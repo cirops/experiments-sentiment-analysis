{
 "cells": [
  {
   "cell_type": "markdown",
   "metadata": {},
   "source": [
    "# Introduction\n",
    "\n"
   ]
  },
  {
   "cell_type": "markdown",
   "metadata": {},
   "source": [
    "# Part 1) Pre-processing and Dataset Visualization\n",
    "\n",
    "To start, we will pre-process the dataset, removing unnecessary textual elements and formatting it to the input the classifiers understand, as visualize its characteristics such as data distribution, word-count and others.\n",
    "\n",
    "First, we load the dataset onto a Pandas DataFrame, drop an unneeded column and change a string label to numeric:"
   ]
  },
  {
   "cell_type": "code",
   "execution_count": 1,
   "metadata": {},
   "outputs": [
    {
     "data": {
      "text/html": [
       "<div>\n",
       "<style scoped>\n",
       "    .dataframe tbody tr th:only-of-type {\n",
       "        vertical-align: middle;\n",
       "    }\n",
       "\n",
       "    .dataframe tbody tr th {\n",
       "        vertical-align: top;\n",
       "    }\n",
       "\n",
       "    .dataframe thead th {\n",
       "        text-align: right;\n",
       "    }\n",
       "</style>\n",
       "<table border=\"1\" class=\"dataframe\">\n",
       "  <thead>\n",
       "    <tr style=\"text-align: right;\">\n",
       "      <th></th>\n",
       "      <th>comment</th>\n",
       "      <th>rating</th>\n",
       "      <th>rating_b</th>\n",
       "    </tr>\n",
       "  </thead>\n",
       "  <tbody>\n",
       "    <tr>\n",
       "      <th>0</th>\n",
       "      <td>Good life animation Really smooth animation  w...</td>\n",
       "      <td>3</td>\n",
       "      <td>0</td>\n",
       "    </tr>\n",
       "    <tr>\n",
       "      <th>1</th>\n",
       "      <td>Terrific Demo Applet This is a really great ap...</td>\n",
       "      <td>5</td>\n",
       "      <td>1</td>\n",
       "    </tr>\n",
       "    <tr>\n",
       "      <th>2</th>\n",
       "      <td>Generates Fractal coastlines and allows measur...</td>\n",
       "      <td>5</td>\n",
       "      <td>1</td>\n",
       "    </tr>\n",
       "    <tr>\n",
       "      <th>3</th>\n",
       "      <td>Great example of actual use in a High School T...</td>\n",
       "      <td>5</td>\n",
       "      <td>1</td>\n",
       "    </tr>\n",
       "    <tr>\n",
       "      <th>4</th>\n",
       "      <td>Excellent demonstration of Bragg's Law I reall...</td>\n",
       "      <td>4</td>\n",
       "      <td>0</td>\n",
       "    </tr>\n",
       "  </tbody>\n",
       "</table>\n",
       "</div>"
      ],
      "text/plain": [
       "                                             comment  rating  rating_b\n",
       "0  Good life animation Really smooth animation  w...       3         0\n",
       "1  Terrific Demo Applet This is a really great ap...       5         1\n",
       "2  Generates Fractal coastlines and allows measur...       5         1\n",
       "3  Great example of actual use in a High School T...       5         1\n",
       "4  Excellent demonstration of Bragg's Law I reall...       4         0"
      ]
     },
     "execution_count": 1,
     "metadata": {},
     "output_type": "execute_result"
    }
   ],
   "source": [
    "import pandas as pd\n",
    "\n",
    "df = pd.read_csv('../data/proc/comments_lang.csv')\n",
    "\n",
    "df = df.drop(columns='classe 1')\n",
    "df.columns=['comment', 'rating', 'rating_b']\n",
    "df[\"rating_b\"] = df[\"rating_b\"].replace({'nao excelente': 0, 'excelente': 1})\n",
    "df.head()"
   ]
  },
  {
   "cell_type": "markdown",
   "metadata": {},
   "source": [
    "Before we can present information about the textual data, we must do a cleanup. This will involve:\n",
    "- Lowercasing of words,\n",
    "- Removal of hyperlinks,\n",
    "- Removal of punctuation (except groups of exclamation and interrogation marks, as they might be semantically relevant) and\n",
    "- Filtering non-english examples.\n"
   ]
  },
  {
   "cell_type": "code",
   "execution_count": 2,
   "metadata": {},
   "outputs": [],
   "source": [
    "# https://pypi.org/project/langdetect/\n",
    "# from langdetect import detect\n",
    "# for i in range(len(df)):\n",
    "#     if(detect(df['comment'][i]) != 'en'):\n",
    "#         print(i, ': ', detect(df['comment'][i]), '( ', df['comment'][i], ' )')"
   ]
  },
  {
   "cell_type": "markdown",
   "metadata": {},
   "source": [
    "The language filtering performed served as basis for manual removal on the source file, as there were very few non-english entries.\n",
    "\n",
    "After the language filtering, we perform lowercasing and removal of hyperlinks and punctuation."
   ]
  },
  {
   "cell_type": "code",
   "execution_count": 3,
   "metadata": {},
   "outputs": [],
   "source": [
    "df['comment'] = df['comment'].str.lower()\n",
    "\n",
    "# df['comment'] = df['comment'].str.replace(r'http\\S+\\b', '')\n",
    "\n",
    "# from string import punctuation\n",
    "\n",
    "# def remove_punctuations(text):\n",
    "#     for punct in punctuation.replace('?', '').replace('!', ''):\n",
    "#         text = text.replace(punct, ' ')\n",
    "#     return text\n",
    "\n",
    "# df['comment'] = df['comment'].apply(remove_punctuations)\n",
    "# df.head()\n"
   ]
  },
  {
   "cell_type": "markdown",
   "metadata": {},
   "source": [
    "Then, we plot the histogram of categories in the dataset:\n"
   ]
  },
  {
   "cell_type": "code",
   "execution_count": 4,
   "metadata": {},
   "outputs": [
    {
     "data": {
      "text/plain": [
       "[Text(0,0.5,'Percentual'), Text(0.5,0,'Rating')]"
      ]
     },
     "execution_count": 4,
     "metadata": {},
     "output_type": "execute_result"
    },
    {
     "data": {
      "image/png": "[encoded data removed]",
      "text/plain": [
       "<matplotlib.figure.Figure at 0xb848470>"
      ]
     },
     "metadata": {},
     "output_type": "display_data"
    }
   ],
   "source": [
    "%matplotlib inline\n",
    "import seaborn as sns, numpy as np\n",
    "sns.set();\n",
    "sns.set(rc={'figure.figsize':(11.7,8.27)})\n",
    "x = df['rating']\n",
    "from scipy.stats import norm\n",
    "\n",
    "ax = sns.distplot(x,kde_kws={\"color\": \"k\", \"lw\": 3, 'bw': .5, 'clip': (1,5), \"label\": \"KDE\"}, bins=5)\n",
    "ax.set(xlabel='Rating', ylabel='Percentual')\n",
    "\n"
   ]
  },
  {
   "cell_type": "markdown",
   "metadata": {},
   "source": [
    "We can see that from the ratings 1 through 5, the data is considerably imbalanced towards the higher (more positive values).\n",
    "By transforming the multiclass dataset to a binary, Non-Excelent/Excelent dataset, in which ratings 1-4 form the Non-Excellent and 5 forms the Excellent category, we achieve the following distribution:"
   ]
  },
  {
   "cell_type": "code",
   "execution_count": 5,
   "metadata": {},
   "outputs": [
    {
     "data": {
      "text/plain": [
       "[Text(0,0.5,'Comments'), Text(0.5,0,'Rating')]"
      ]
     },
     "execution_count": 5,
     "metadata": {},
     "output_type": "execute_result"
    },
    {
     "data": {
      "image/png": "[encoded data removed]",
      "text/plain": [
       "<matplotlib.figure.Figure at 0x5d0c5c0>"
      ]
     },
     "metadata": {},
     "output_type": "display_data"
    }
   ],
   "source": [
    "x_2 = df['rating_b']\n",
    "ax_2 = sns.countplot(x_2)\n",
    "ax_2.set(xlabel='Rating', ylabel='Comments')"
   ]
  },
  {
   "cell_type": "markdown",
   "metadata": {},
   "source": [
    "We can see from the graph that with the binary distribution, the Non-Excellent class has around 6000 examples, while class Excellent amounts to a little below 4000, which allows for a more balanced training."
   ]
  },
  {
   "cell_type": "markdown",
   "metadata": {},
   "source": [
    "Next, we present the average word count for the 5-category dataset, as well as the binary one. We also consider average word counts if filtering of stop words is used:"
   ]
  },
  {
   "cell_type": "code",
   "execution_count": 6,
   "metadata": {},
   "outputs": [
    {
     "data": {
      "text/html": [
       "<div>\n",
       "<style scoped>\n",
       "    .dataframe tbody tr th:only-of-type {\n",
       "        vertical-align: middle;\n",
       "    }\n",
       "\n",
       "    .dataframe tbody tr th {\n",
       "        vertical-align: top;\n",
       "    }\n",
       "\n",
       "    .dataframe thead th {\n",
       "        text-align: right;\n",
       "    }\n",
       "</style>\n",
       "<table border=\"1\" class=\"dataframe\">\n",
       "  <thead>\n",
       "    <tr style=\"text-align: right;\">\n",
       "      <th></th>\n",
       "      <th>Rating</th>\n",
       "      <th>Average (with stop-words)</th>\n",
       "      <th>Average (without stop-words)</th>\n",
       "    </tr>\n",
       "  </thead>\n",
       "  <tbody>\n",
       "    <tr>\n",
       "      <th>1</th>\n",
       "      <td>1</td>\n",
       "      <td>42</td>\n",
       "      <td>19</td>\n",
       "    </tr>\n",
       "    <tr>\n",
       "      <th>2</th>\n",
       "      <td>2</td>\n",
       "      <td>64</td>\n",
       "      <td>30</td>\n",
       "    </tr>\n",
       "    <tr>\n",
       "      <th>3</th>\n",
       "      <td>3</td>\n",
       "      <td>70</td>\n",
       "      <td>33</td>\n",
       "    </tr>\n",
       "    <tr>\n",
       "      <th>4</th>\n",
       "      <td>4</td>\n",
       "      <td>75</td>\n",
       "      <td>36</td>\n",
       "    </tr>\n",
       "    <tr>\n",
       "      <th>5</th>\n",
       "      <td>5</td>\n",
       "      <td>70</td>\n",
       "      <td>34</td>\n",
       "    </tr>\n",
       "  </tbody>\n",
       "</table>\n",
       "</div>"
      ],
      "text/plain": [
       "  Rating Average (with stop-words) Average (without stop-words)\n",
       "1      1                        42                           19\n",
       "2      2                        64                           30\n",
       "3      3                        70                           33\n",
       "4      4                        75                           36\n",
       "5      5                        70                           34"
      ]
     },
     "metadata": {},
     "output_type": "display_data"
    },
    {
     "data": {
      "text/html": [
       "<div>\n",
       "<style scoped>\n",
       "    .dataframe tbody tr th:only-of-type {\n",
       "        vertical-align: middle;\n",
       "    }\n",
       "\n",
       "    .dataframe tbody tr th {\n",
       "        vertical-align: top;\n",
       "    }\n",
       "\n",
       "    .dataframe thead th {\n",
       "        text-align: right;\n",
       "    }\n",
       "</style>\n",
       "<table border=\"1\" class=\"dataframe\">\n",
       "  <thead>\n",
       "    <tr style=\"text-align: right;\">\n",
       "      <th></th>\n",
       "      <th>Class</th>\n",
       "      <th>Average (with stop-words)</th>\n",
       "      <th>Average (without stop-words)</th>\n",
       "    </tr>\n",
       "  </thead>\n",
       "  <tbody>\n",
       "    <tr>\n",
       "      <th>0</th>\n",
       "      <td>Non-Excellent</td>\n",
       "      <td>73</td>\n",
       "      <td>35</td>\n",
       "    </tr>\n",
       "    <tr>\n",
       "      <th>1</th>\n",
       "      <td>Excellent</td>\n",
       "      <td>70</td>\n",
       "      <td>34</td>\n",
       "    </tr>\n",
       "  </tbody>\n",
       "</table>\n",
       "</div>"
      ],
      "text/plain": [
       "           Class Average (with stop-words) Average (without stop-words)\n",
       "0  Non-Excellent                        73                           35\n",
       "1      Excellent                        70                           34"
      ]
     },
     "metadata": {},
     "output_type": "display_data"
    }
   ],
   "source": [
    "from sklearn.feature_extraction import text\n",
    "stop = text.ENGLISH_STOP_WORDS\n",
    "# If not donwloaded, uncomment this!\n",
    "# import nltk\n",
    "# nltk.download('stopwords')\n",
    "from nltk.corpus import stopwords\n",
    "stop = stop.union(stopwords.words('english'))\n",
    "\n",
    "# https://pypi.org/project/stop-words/\n",
    "from stop_words import get_stop_words\n",
    "stop = stop.union(get_stop_words('en'))\n",
    "\n",
    "df['comment_stop'] = df['comment'].apply(lambda x: ' '.join([word for word in x.split() if word not in (stop)]))\n",
    "\n",
    "# from string import punctuation\n",
    "\n",
    "# def remove_punctuations(text):\n",
    "#     for punct in punctuation.replace('?', '').replace('!', ''):\n",
    "#         text = text.replace(punct, ' ')\n",
    "#     return text\n",
    "\n",
    "# df['comment_stop'] = df['comment_stop'].apply(remove_punctuations)\n",
    "####\n",
    "\n",
    "\n",
    "df['count'] = df['comment'].str.split().str.len()\n",
    "df['count_stop'] = df['comment_stop'].str.split().str.len()\n",
    "\n",
    "\n",
    "\n",
    "word_count_5_cat = pd.DataFrame(columns = ['Rating', 'Average (with stop-words)', 'Average (without stop-words)'])\n",
    "word_count_2_cat = pd.DataFrame(columns = ['Class', 'Average (with stop-words)', 'Average (without stop-words)'])\n",
    "\n",
    "for i in range(1, 6):\n",
    "    word_count_5_cat.loc[i] = [i,\n",
    "                               int(df[df['rating'] == i]['count'].mean()),\n",
    "                               int(df[df['rating'] == i]['count_stop'].mean())]\n",
    "\n",
    "for i in range(2):\n",
    "    word_count_2_cat.loc[i] = ['Non-Excellent' if i == 0 else 'Excellent',\n",
    "                               int(df[df['rating_b'] == i]['count'].mean()),\n",
    "                               int(df[df['rating_b'] == i]['count_stop'].mean())]\n",
    "\n",
    "display(word_count_5_cat)\n",
    "display(word_count_2_cat)"
   ]
  },
  {
   "cell_type": "markdown",
   "metadata": {},
   "source": [
    "As can be seen, the removal of stop-words reduces to around half average word count for the examples, both for 5 categories and binary. We will experiment with both in the Classification phase to determine whether this translates to better results."
   ]
  },
  {
   "cell_type": "markdown",
   "metadata": {},
   "source": [
    "## Part 1.5) Over-sampling\n",
    "After the rest of the classification workflow is done, we may come back to over-sample the training data and check whether it impacts the classifiers positively.\n",
    "\n",
    "https://beckernick.github.io/oversampling-modeling/\n",
    "https://www.kaggle.com/rafjaa/resampling-strategies-for-imbalanced-datasets\n",
    "https://imbalanced-learn.org/en/stable/over_sampling.html"
   ]
  },
  {
   "cell_type": "markdown",
   "metadata": {},
   "source": [
    "# Part 2) Classification\n",
    "\n",
    "To start, we separate the data into training set and test set, so that the feature extraction is done separately. That way, the model can only learn vocabulary on the training set, mimicking the real life application of out-of-sample data."
   ]
  },
  {
   "cell_type": "code",
   "execution_count": 7,
   "metadata": {},
   "outputs": [],
   "source": [
    "from sklearn.model_selection import train_test_split\n",
    "\n",
    "docs_train, docs_test, y_train, y_test = train_test_split(\n",
    "    df['comment'], df['rating_b'], test_size=0.25)"
   ]
  },
  {
   "cell_type": "markdown",
   "metadata": {},
   "source": [
    "Workflow question: Do we get less total features in our vectorized representation? Experiment with two settings:\n",
    "- Regular comments before removing stop-words (column 'comment) vectorized with the flag 'stop-words';\n",
    "- Comments post stop-word removal, without the flag stop-words;"
   ]
  },
  {
   "cell_type": "code",
   "execution_count": 8,
   "metadata": {},
   "outputs": [
    {
     "ename": "NameError",
     "evalue": "name 'TfidfVectorizer' is not defined",
     "output_type": "error",
     "traceback": [
      "\u001b[1;31m---------------------------------------------------------------------------\u001b[0m",
      "\u001b[1;31mNameError\u001b[0m                                 Traceback (most recent call last)",
      "\u001b[1;32m<ipython-input-8-3342b1fa7517>\u001b[0m in \u001b[0;36m<module>\u001b[1;34m()\u001b[0m\n\u001b[0;32m      3\u001b[0m \u001b[1;33m\u001b[0m\u001b[0m\n\u001b[0;32m      4\u001b[0m \u001b[0mcount_vec\u001b[0m \u001b[1;33m=\u001b[0m \u001b[0mCountVectorizer\u001b[0m\u001b[1;33m(\u001b[0m\u001b[1;33m)\u001b[0m\u001b[1;33m\u001b[0m\u001b[0m\n\u001b[1;32m----> 5\u001b[1;33m \u001b[0mtf_vec\u001b[0m \u001b[1;33m=\u001b[0m \u001b[0mTfidfVectorizer\u001b[0m\u001b[1;33m(\u001b[0m\u001b[1;33m)\u001b[0m\u001b[1;33m\u001b[0m\u001b[0m\n\u001b[0m\u001b[0;32m      6\u001b[0m \u001b[1;33m\u001b[0m\u001b[0m\n\u001b[0;32m      7\u001b[0m \u001b[1;33m\u001b[0m\u001b[0m\n",
      "\u001b[1;31mNameError\u001b[0m: name 'TfidfVectorizer' is not defined"
     ]
    }
   ],
   "source": [
    "from sklearn.feature_extraction.text import CountVectorizer\n",
    "\n",
    "\n",
    "count_vec = CountVectorizer()\n",
    "tf_vec = TfidfVectorizer()\n",
    "\n",
    "\n",
    "X_train = count_vec.fit_transform(docs_train)"
   ]
  },
  {
   "cell_type": "markdown",
   "metadata": {},
   "source": [
    "First, we classify using all default settings, so that we can get a good baseline view of the classifiers:"
   ]
  },
  {
   "cell_type": "code",
   "execution_count": null,
   "metadata": {},
   "outputs": [],
   "source": [
    "from sklearn.svm import LinearSVC\n",
    "from sklearn.naive_bayes import MultinomialNB\n",
    "from sklearn.tree import DecisionTreeClassifier\n",
    "from sklearn.linear_model import LogisticRegression\n",
    "from sklearn.calibration import CalibratedClassifierCV\n",
    "\n",
    "\n",
    "classifiers={\n",
    "    'Decision Tree': DecisionTreeClassifier(),\n",
    "    'Linear Regression': LogisticRegression(),\n",
    "    'Naïve Bayes': MultinomialNB(),\n",
    "    'Support Vector Machine': CalibratedClassifierCV(LinearSVC())\n",
    "}\n",
    "\n",
    "X_test = count_vec.transform(docs_test)\n",
    "\n",
    "from sklearn.metrics import accuracy_score\n",
    "from sklearn.metrics import roc_auc_score\n",
    "from sklearn.metrics import roc_curve\n",
    "\n",
    "import matplotlib.pyplot as plt\n",
    "plt.figure(figsize=(10, 10))\n",
    "for key, clf in classifiers.items():\n",
    "    clf.fit(X_train, y_train)\n",
    "    y_pred = clf.predict(X_test)\n",
    "    y_pred_proba = clf.predict_proba(X_test)[:,1]\n",
    "    roc_score = roc_auc_score(y_test, y_pred_proba)\n",
    "    fpr, tpr, thresholds = roc_curve(y_test, y_pred_proba)\n",
    "    plt.plot(fpr, tpr, label='{0} (AUC = {1:.2f})'.format(key,roc_score))\n",
    "\n",
    "plt.plot([0,1],[0,1], 'k--')\n",
    "plt.xlim([0.0, 1.0])\n",
    "plt.ylim([0.0, 1.05])\n",
    "plt.xlabel('False Positive Rate')\n",
    "plt.ylabel('True Positive Rate')\n",
    "plt.title('ROC Curves for Default Classifiers')\n",
    "plt.legend(loc='lower right')\n",
    "plt.show()\n",
    "#performing predictions\n"
   ]
  },
  {
   "cell_type": "markdown",
   "metadata": {},
   "source": [
    "We can see that, while 0.72 is an above average  result, we must investigage whether the fine-tuning of parameters can lead to better results, or the dataset reaches its potential for these classifiers at this baseline.\n",
    "\n",
    "Next, we use TF-IDF to try to improve our results:"
   ]
  },
  {
   "cell_type": "code",
   "execution_count": null,
   "metadata": {},
   "outputs": [],
   "source": [
    "from sklearn.feature_extraction.text import TfidfVectorizer\n",
    "tf_vec = TfidfVectorizer()\n",
    "\n",
    "X_train = tf_vec.fit_transform(docs_train)\n",
    "X_test = tf_vec.transform(docs_test)\n",
    "plt.figure(figsize=(10, 10))\n",
    "for key, clf in classifiers.items():\n",
    "    clf.fit(X_train, y_train)\n",
    "    y_pred = clf.predict(X_test)\n",
    "    y_pred_proba = clf.predict_proba(X_test)[:,1]\n",
    "    roc_score = roc_auc_score(y_test, y_pred_proba)\n",
    "    fpr, tpr, thresholds = roc_curve(y_test, y_pred_proba)\n",
    "    plt.plot(fpr, tpr, label='{0} (AUC = {1:.2f})'.format(key,roc_score))\n",
    "    \n",
    "plt.plot([0,1],[0,1], 'k--')\n",
    "plt.xlim([0.0, 1.0])\n",
    "plt.ylim([0.0, 1.05])\n",
    "plt.xlabel('False Positive Rate')\n",
    "plt.ylabel('True Positive Rate')\n",
    "plt.title('ROC Curves for Default Classifiers')\n",
    "plt.legend(loc='lower right')\n",
    "plt.show()\n"
   ]
  },
  {
   "cell_type": "markdown",
   "metadata": {},
   "source": [
    "We can see a slight improvement from the previous results, which makes us presume that further fine-tuning may provide even better results.\n",
    "That being said, we must investigate this in a more streamlined way, so that we don't take forever investigating each parameter at a time. For that, we will use Scikit-learn's GridSearchCV, which optimizes the hyperparameters from both the vectorizers and classifiers. We will investigate one classifier at a time for its parameters, then choose the best out of all classifiers and plot them together for comparison.\n",
    "\n",
    "We'll start with the Decision Tree:"
   ]
  },
  {
   "cell_type": "code",
   "execution_count": null,
   "metadata": {},
   "outputs": [],
   "source": [
    "from sklearn.pipeline import Pipeline\n",
    "from sklearn.model_selection import GridSearchCV\n",
    "\n",
    "parameters = {\n",
    "    'vec__max_df': (0.5, 0.75, 1.0),  \n",
    "#     'vec__max_features': (None, 5000, 10000),  \n",
    "    'vec__min_df': (1, 5, 10, 20, 50),\n",
    "#     'vec__binary': (True, False), \n",
    "    'tfidf__use_idf': (True, False),  \n",
    "    'tfidf__sublinear_tf': (True, False),  \n",
    "    'tfidf__norm': ('l1', 'l2'),\n",
    "    'clf__max_depth': np.arange(3, 10)  \n",
    "}\n",
    "\n",
    "pipeline = Pipeline([\n",
    "    ('vec',   CountVectorizer()),\n",
    "    ('tfidf', TfidfTransformer()),\n",
    "    ('clf',   DecisionTreeClassifier())\n",
    "])\n",
    "\n",
    "if __name__ == \"__main__\":\n",
    "    grid_search = GridSearchCV(pipeline, parameters, n_jobs=-1, verbose=10)\n",
    "    grid_search.fit(docs_train, y_train)\n",
    "    \n",
    "    n_candidates = len(grid_search.cv_results_['params'])\n",
    "    for i in range(n_candidates):\n",
    "        print(i, 'params - %s; mean - %0.2f; std - %0.2f'\n",
    "                 % (grid_search.cv_results_['params'][i],\n",
    "                    grid_search.cv_results_['mean_test_score'][i],\n",
    "                    grid_search.cv_results_['std_test_score'][i]))\n",
    "\n",
    "    y_predicted = grid_search.predict(docs_test)\n",
    "\n",
    "    print(metrics.classification_report(y_test, y_predicted))\n",
    "\n",
    "    cm = metrics.confusion_matrix(y_test, y_predicted)\n",
    "    print(cm)\n",
    "\n",
    "\n",
    "    print(grid_search.best_score_)\n",
    "\n",
    "    for param_name in sorted(parameters.keys()):\n",
    "        print(\"%s: %r\" % (param_name, grid_search.best_params_[param_name]))\n",
    "    "
   ]
  },
  {
   "cell_type": "code",
   "execution_count": null,
   "metadata": {},
   "outputs": [],
   "source": []
  }
 ],
 "metadata": {
  "kernelspec": {
   "display_name": "Python 3",
   "language": "python",
   "name": "python3"
  },
  "language_info": {
   "codemirror_mode": {
    "name": "ipython",
    "version": 3
   },
   "file_extension": ".py",
   "mimetype": "text/x-python",
   "name": "python",
   "nbconvert_exporter": "python",
   "pygments_lexer": "ipython3",
   "version": "3.6.4"
  }
 },
 "nbformat": 4,
 "nbformat_minor": 2
}
